{
 "cells": [
  {
   "cell_type": "code",
   "execution_count": 6,
   "metadata": {},
   "outputs": [
    {
     "name": "stdout",
     "output_type": "stream",
     "text": [
      "An error occurred: Value for one of the query parameters specified in the request URI is invalid.\n",
      "RequestId:cd369d4d-e01e-0045-4c27-73543e000000\n",
      "Time:2025-01-30T15:00:09.1919340Z\n",
      "ErrorCode:InvalidQueryParameterValue\n",
      "queryparametername:comp\n",
      "queryparametervalue:list\n",
      "Content: <?xml version=\"1.0\" encoding=\"utf-8\"?>\n",
      "<Error><Code>InvalidQueryParameterValue</Code><Message>Value for one of the query parameters specified in the request URI is invalid.\n",
      "RequestId:cd369d4d-e01e-0045-4c27-73543e000000\n",
      "Time:2025-01-30T15:00:09.1919340Z</Message><QueryParameterName>comp</QueryParameterName><QueryParameterValue>list</QueryParameterValue></Error>\n",
      "Full error details: {'reason': 'Value for one of the query parameters specified in the request URI is invalid.', 'status_code': 400, 'response': <HttpResponse: 400 Value for one of the query parameters specified in the request URI is invalid., Content-Type: application/xml>, 'model': None, 'error': None, 'inner_exception': None, 'exc_type': <class 'azure.core.exceptions.HttpResponseError'>, 'exc_value': HttpResponseError(\"Operation returned an invalid status 'Value for one of the query parameters specified in the request URI is invalid.'\"), 'exc_traceback': <traceback object at 0x71ad57f11080>, 'exc_msg': 'Value for one of the query parameters specified in the request URI is invalid.\\nRequestId:cd369d4d-e01e-0045-4c27-73543e000000\\nTime:2025-01-30T15:00:09.1919340Z\\nErrorCode:InvalidQueryParameterValue\\nqueryparametername:comp\\nqueryparametervalue:list, HttpResponseError: Operation returned an invalid status \\'Value for one of the query parameters specified in the request URI is invalid.\\'\\nContent: <?xml version=\"1.0\" encoding=\"utf-8\"?>\\n<Error><Code>InvalidQueryParameterValue</Code><Message>Value for one of the query parameters specified in the request URI is invalid.\\nRequestId:cd369d4d-e01e-0045-4c27-73543e000000\\nTime:2025-01-30T15:00:09.1919340Z</Message><QueryParameterName>comp</QueryParameterName><QueryParameterValue>list</QueryParameterValue></Error>', 'message': 'Value for one of the query parameters specified in the request URI is invalid.\\nRequestId:cd369d4d-e01e-0045-4c27-73543e000000\\nTime:2025-01-30T15:00:09.1919340Z\\nErrorCode:InvalidQueryParameterValue\\nqueryparametername:comp\\nqueryparametervalue:list', 'continuation_token': '', 'error_code': <StorageErrorCode.INVALID_QUERY_PARAMETER_VALUE: 'InvalidQueryParameterValue'>, 'additional_info': {'queryparametername': 'comp', 'queryparametervalue': 'list'}}\n"
     ]
    }
   ],
   "source": [
    "from azure.storage.fileshare import ShareServiceClient, ShareFileClient\n",
    "from azure.core.exceptions import ResourceNotFoundError\n",
    "\n",
    "def get_service_client(account_url, sas_token):\n",
    "    \"\"\"\n",
    "    Create a ShareServiceClient using account URL and SAS token\n",
    "    \"\"\"\n",
    "    # Remove 'datahub?' if it's part of the token\n",
    "    if sas_token.startswith('datahub?'):\n",
    "        sas_token = sas_token[8:]  # Remove 'datahub?' prefix\n",
    "    elif not sas_token.startswith('?'):\n",
    "        sas_token = '?' + sas_token\n",
    "        \n",
    "    # Combine the URL and token\n",
    "    account_url_with_sas = f\"{account_url}{sas_token}\"\n",
    "    return ShareServiceClient(account_url=account_url_with_sas)\n",
    "\n",
    "def list_files_in_share(account_url, sas_token, share_name):\n",
    "    \"\"\"\n",
    "    List files in an Azure File Share using SAS token\n",
    "    \"\"\"\n",
    "    try:\n",
    "        # Create a service client\n",
    "        service_client = get_service_client(account_url, sas_token)\n",
    "        \n",
    "        # Get a reference to the share\n",
    "        share_client = service_client.get_share_client(share_name)\n",
    "        \n",
    "        # List files in the root directory\n",
    "        files = list(share_client.list_directories_and_files())\n",
    "            \n",
    "        print(\"\\nFiles and directories in the share:\")\n",
    "        for file in files:\n",
    "            print(f\"Name: {file.name}, Type: {'Directory' if file.is_directory else 'File'}\")\n",
    "            \n",
    "    except ResourceNotFoundError:\n",
    "        print(f\"Share {share_name} not found\")\n",
    "    except Exception as e:\n",
    "        print(f\"An error occurred: {str(e)}\")\n",
    "        print(f\"Full error details: {str(e.__dict__)}\")\n",
    "\n",
    "# Example usage\n",
    "if __name__ == \"__main__\":\n",
    "    # Your storage account URL\n",
    "    account_url = \"https://fsdhprojvtfmspoc.blob.core.windows.net\"\n",
    "    # sas_token = \"datahub?sv=2024-05-04&st=2025-01-30T14%3A51%3A51Z&se=2025-01-30T15%3A21%3A51Z&sr=c&sp=racwdxyltmei&sig=6W5nCdI%2Fch7cjeV3PFog8pocyY8OxYqs1LVx2nXeW6c%3D\"\n",
    "    \n",
    "    # Your SAS token (already includes the container name)\n",
    "    sas_token = \"sv=2024-05-04&st=2025-01-30T14%3A51%3A51Z&se=2025-01-30T15%3A21%3A51Z&sr=c&sp=racwdxyltmei&sig=6W5nCdI%2Fch7cjeV3PFog8pocyY8OxYqs1LVx2nXeW6c%3D\"\n",
    "    \n",
    "    # Share name\n",
    "    share_name = \"datahub\"\n",
    "    \n",
    "    # List files\n",
    "    list_files_in_share(account_url, sas_token, share_name)"
   ]
  },
  {
   "cell_type": "code",
   "execution_count": null,
   "metadata": {},
   "outputs": [],
   "source": []
  }
 ],
 "metadata": {
  "kernelspec": {
   "display_name": "docker_test",
   "language": "python",
   "name": "python3"
  },
  "language_info": {
   "codemirror_mode": {
    "name": "ipython",
    "version": 3
   },
   "file_extension": ".py",
   "mimetype": "text/x-python",
   "name": "python",
   "nbconvert_exporter": "python",
   "pygments_lexer": "ipython3",
   "version": "3.11.5"
  }
 },
 "nbformat": 4,
 "nbformat_minor": 2
}
